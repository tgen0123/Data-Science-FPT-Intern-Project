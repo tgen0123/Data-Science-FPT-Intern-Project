{
  "cells": [
    {
      "cell_type": "markdown",
      "metadata": {
        "id": "XOQU5fKZxmhp"
      },
      "source": [
        "Import Libraries"
      ]
    },
    {
      "cell_type": "code",
      "execution_count": 5,
      "metadata": {
        "id": "YiJ2FJyxViP-"
      },
      "outputs": [],
      "source": [
        "import pandas as pd\n",
        "import numpy as np\n",
        "import matplotlib.pyplot as plt\n",
        "import seaborn as sns\n",
        "from datetime import datetime\n",
        "import collections\n",
        "import re"
      ]
    },
    {
      "cell_type": "markdown",
      "metadata": {
        "id": "Fl2q0157waky"
      },
      "source": [
        "Load the csv file and make a copy to keep the original file for comparisons."
      ]
    },
    {
      "cell_type": "code",
      "execution_count": 6,
      "metadata": {
        "id": "YtBJBL8sWBoy"
      },
      "outputs": [],
      "source": [
        "df_original = pd.read_csv('sample_data.csv')\n",
        "df = df_original.copy()"
      ]
    },
    {
      "cell_type": "markdown",
      "metadata": {
        "id": "GeDd_ZgMEeua"
      },
      "source": [
        "# **Dataset Overview**"
      ]
    },
    {
      "cell_type": "code",
      "execution_count": 7,
      "metadata": {
        "colab": {
          "base_uri": "https://localhost:8080/",
          "height": 516
        },
        "id": "BNmrCIRI_Yis",
        "outputId": "de817dbe-fa92-47bb-d5a7-2dbadce04d83"
      },
      "outputs": [
        {
          "data": {
            "text/html": [
              "<div>\n",
              "<style scoped>\n",
              "    .dataframe tbody tr th:only-of-type {\n",
              "        vertical-align: middle;\n",
              "    }\n",
              "\n",
              "    .dataframe tbody tr th {\n",
              "        vertical-align: top;\n",
              "    }\n",
              "\n",
              "    .dataframe thead th {\n",
              "        text-align: right;\n",
              "    }\n",
              "</style>\n",
              "<table border=\"1\" class=\"dataframe\">\n",
              "  <thead>\n",
              "    <tr style=\"text-align: right;\">\n",
              "      <th></th>\n",
              "      <th>AccountSessionIdentifier</th>\n",
              "      <th>Account_Domain</th>\n",
              "      <th>Account_Name</th>\n",
              "      <th>ActivityID</th>\n",
              "      <th>AuthenticationProvider</th>\n",
              "      <th>AuthenticationServer</th>\n",
              "      <th>AuthenticationType</th>\n",
              "      <th>CalledStationID</th>\n",
              "      <th>CallerProcessName</th>\n",
              "      <th>Caller_Computer_Name</th>\n",
              "      <th>...</th>\n",
              "      <th>tag::object_category</th>\n",
              "      <th>user</th>\n",
              "      <th>user_group</th>\n",
              "      <th>user_group_id</th>\n",
              "      <th>user_id</th>\n",
              "      <th>user_name</th>\n",
              "      <th>user_type</th>\n",
              "      <th>vendor</th>\n",
              "      <th>vendor_privilege</th>\n",
              "      <th>vendor_product</th>\n",
              "    </tr>\n",
              "  </thead>\n",
              "  <tbody>\n",
              "    <tr>\n",
              "      <th>0</th>\n",
              "      <td>3635303236</td>\n",
              "      <td>NaN</td>\n",
              "      <td>NaN</td>\n",
              "      <td>'{9f05da3d-972e-0001-1cdb-059f2e97db01}'</td>\n",
              "      <td>Windows</td>\n",
              "      <td>FIS-RODCHCM-02.fsoft.fpt.vn</td>\n",
              "      <td>MS-CHAPv2</td>\n",
              "      <td>10.86.34.14</td>\n",
              "      <td>NaN</td>\n",
              "      <td>NaN</td>\n",
              "      <td>...</td>\n",
              "      <td>NaN</td>\n",
              "      <td>NaN</td>\n",
              "      <td>NaN</td>\n",
              "      <td>NaN</td>\n",
              "      <td>NaN</td>\n",
              "      <td>NaN</td>\n",
              "      <td>NaN</td>\n",
              "      <td>Microsoft</td>\n",
              "      <td>NaN</td>\n",
              "      <td>Microsoft Windows</td>\n",
              "    </tr>\n",
              "    <tr>\n",
              "      <th>1</th>\n",
              "      <td>3339323731</td>\n",
              "      <td>NaN</td>\n",
              "      <td>NaN</td>\n",
              "      <td>'{9f05da3d-972e-0001-1cdb-059f2e97db01}'</td>\n",
              "      <td>Windows</td>\n",
              "      <td>FIS-RODCHCM-02.fsoft.fpt.vn</td>\n",
              "      <td>MS-CHAPv2</td>\n",
              "      <td>10.86.34.13</td>\n",
              "      <td>NaN</td>\n",
              "      <td>NaN</td>\n",
              "      <td>...</td>\n",
              "      <td>NaN</td>\n",
              "      <td>NaN</td>\n",
              "      <td>NaN</td>\n",
              "      <td>NaN</td>\n",
              "      <td>NaN</td>\n",
              "      <td>NaN</td>\n",
              "      <td>NaN</td>\n",
              "      <td>Microsoft</td>\n",
              "      <td>NaN</td>\n",
              "      <td>Microsoft Windows</td>\n",
              "    </tr>\n",
              "    <tr>\n",
              "      <th>2</th>\n",
              "      <td>3635303235</td>\n",
              "      <td>NaN</td>\n",
              "      <td>NaN</td>\n",
              "      <td>'{9f05da3d-972e-0001-1cdb-059f2e97db01}'</td>\n",
              "      <td>Windows</td>\n",
              "      <td>FIS-RODCHCM-02.fsoft.fpt.vn</td>\n",
              "      <td>MS-CHAPv2</td>\n",
              "      <td>10.86.34.14</td>\n",
              "      <td>NaN</td>\n",
              "      <td>NaN</td>\n",
              "      <td>...</td>\n",
              "      <td>NaN</td>\n",
              "      <td>NaN</td>\n",
              "      <td>NaN</td>\n",
              "      <td>NaN</td>\n",
              "      <td>NaN</td>\n",
              "      <td>NaN</td>\n",
              "      <td>NaN</td>\n",
              "      <td>Microsoft</td>\n",
              "      <td>NaN</td>\n",
              "      <td>Microsoft Windows</td>\n",
              "    </tr>\n",
              "    <tr>\n",
              "      <th>3</th>\n",
              "      <td>3635303234</td>\n",
              "      <td>NaN</td>\n",
              "      <td>NaN</td>\n",
              "      <td>'{9f05da3d-972e-0001-1cdb-059f2e97db01}'</td>\n",
              "      <td>Windows</td>\n",
              "      <td>FIS-RODCHCM-02.fsoft.fpt.vn</td>\n",
              "      <td>MS-CHAPv2</td>\n",
              "      <td>10.86.34.14</td>\n",
              "      <td>NaN</td>\n",
              "      <td>NaN</td>\n",
              "      <td>...</td>\n",
              "      <td>NaN</td>\n",
              "      <td>NaN</td>\n",
              "      <td>NaN</td>\n",
              "      <td>NaN</td>\n",
              "      <td>NaN</td>\n",
              "      <td>NaN</td>\n",
              "      <td>NaN</td>\n",
              "      <td>Microsoft</td>\n",
              "      <td>NaN</td>\n",
              "      <td>Microsoft Windows</td>\n",
              "    </tr>\n",
              "    <tr>\n",
              "      <th>4</th>\n",
              "      <td>3635303233</td>\n",
              "      <td>NaN</td>\n",
              "      <td>NaN</td>\n",
              "      <td>'{9f05da3d-972e-0001-1cdb-059f2e97db01}'</td>\n",
              "      <td>Windows</td>\n",
              "      <td>FIS-RODCHCM-02.fsoft.fpt.vn</td>\n",
              "      <td>MS-CHAPv2</td>\n",
              "      <td>10.86.34.14</td>\n",
              "      <td>NaN</td>\n",
              "      <td>NaN</td>\n",
              "      <td>...</td>\n",
              "      <td>NaN</td>\n",
              "      <td>NaN</td>\n",
              "      <td>NaN</td>\n",
              "      <td>NaN</td>\n",
              "      <td>NaN</td>\n",
              "      <td>NaN</td>\n",
              "      <td>NaN</td>\n",
              "      <td>Microsoft</td>\n",
              "      <td>NaN</td>\n",
              "      <td>Microsoft Windows</td>\n",
              "    </tr>\n",
              "  </tbody>\n",
              "</table>\n",
              "<p>5 rows × 190 columns</p>\n",
              "</div>"
            ],
            "text/plain": [
              "   AccountSessionIdentifier  Account_Domain  Account_Name  \\\n",
              "0                3635303236             NaN           NaN   \n",
              "1                3339323731             NaN           NaN   \n",
              "2                3635303235             NaN           NaN   \n",
              "3                3635303234             NaN           NaN   \n",
              "4                3635303233             NaN           NaN   \n",
              "\n",
              "                                 ActivityID AuthenticationProvider  \\\n",
              "0  '{9f05da3d-972e-0001-1cdb-059f2e97db01}'                Windows   \n",
              "1  '{9f05da3d-972e-0001-1cdb-059f2e97db01}'                Windows   \n",
              "2  '{9f05da3d-972e-0001-1cdb-059f2e97db01}'                Windows   \n",
              "3  '{9f05da3d-972e-0001-1cdb-059f2e97db01}'                Windows   \n",
              "4  '{9f05da3d-972e-0001-1cdb-059f2e97db01}'                Windows   \n",
              "\n",
              "          AuthenticationServer AuthenticationType CalledStationID  \\\n",
              "0  FIS-RODCHCM-02.fsoft.fpt.vn          MS-CHAPv2     10.86.34.14   \n",
              "1  FIS-RODCHCM-02.fsoft.fpt.vn          MS-CHAPv2     10.86.34.13   \n",
              "2  FIS-RODCHCM-02.fsoft.fpt.vn          MS-CHAPv2     10.86.34.14   \n",
              "3  FIS-RODCHCM-02.fsoft.fpt.vn          MS-CHAPv2     10.86.34.14   \n",
              "4  FIS-RODCHCM-02.fsoft.fpt.vn          MS-CHAPv2     10.86.34.14   \n",
              "\n",
              "   CallerProcessName  Caller_Computer_Name  ... tag::object_category  user  \\\n",
              "0                NaN                   NaN  ...                  NaN   NaN   \n",
              "1                NaN                   NaN  ...                  NaN   NaN   \n",
              "2                NaN                   NaN  ...                  NaN   NaN   \n",
              "3                NaN                   NaN  ...                  NaN   NaN   \n",
              "4                NaN                   NaN  ...                  NaN   NaN   \n",
              "\n",
              "   user_group user_group_id user_id  user_name  user_type     vendor  \\\n",
              "0         NaN           NaN     NaN        NaN        NaN  Microsoft   \n",
              "1         NaN           NaN     NaN        NaN        NaN  Microsoft   \n",
              "2         NaN           NaN     NaN        NaN        NaN  Microsoft   \n",
              "3         NaN           NaN     NaN        NaN        NaN  Microsoft   \n",
              "4         NaN           NaN     NaN        NaN        NaN  Microsoft   \n",
              "\n",
              "  vendor_privilege     vendor_product  \n",
              "0              NaN  Microsoft Windows  \n",
              "1              NaN  Microsoft Windows  \n",
              "2              NaN  Microsoft Windows  \n",
              "3              NaN  Microsoft Windows  \n",
              "4              NaN  Microsoft Windows  \n",
              "\n",
              "[5 rows x 190 columns]"
            ]
          },
          "execution_count": 7,
          "metadata": {},
          "output_type": "execute_result"
        }
      ],
      "source": [
        "df.head()"
      ]
    },
    {
      "cell_type": "code",
      "execution_count": 8,
      "metadata": {
        "colab": {
          "base_uri": "https://localhost:8080/"
        },
        "id": "ndohoyT1WkLG",
        "outputId": "662cd7d4-51ef-4d23-c200-1a9c6c69eb46"
      },
      "outputs": [
        {
          "name": "stdout",
          "output_type": "stream",
          "text": [
            "Number of records and variables:\n",
            "(1030, 190)\n"
          ]
        }
      ],
      "source": [
        "print(\"Number of records and variables:\")\n",
        "print(df.shape)"
      ]
    },
    {
      "cell_type": "code",
      "execution_count": 9,
      "metadata": {
        "colab": {
          "base_uri": "https://localhost:8080/"
        },
        "id": "tubxzO7mWnII",
        "outputId": "1fc70b20-761c-49e1-ae26-5320e98b3487"
      },
      "outputs": [
        {
          "name": "stdout",
          "output_type": "stream",
          "text": [
            "Data type of each variable:\n",
            "AccountSessionIdentifier      int64\n",
            "Account_Domain              float64\n",
            "Account_Name                float64\n",
            "ActivityID                   object\n",
            "AuthenticationProvider       object\n",
            "                             ...   \n",
            "user_name                   float64\n",
            "user_type                   float64\n",
            "vendor                       object\n",
            "vendor_privilege            float64\n",
            "vendor_product               object\n",
            "Length: 190, dtype: object\n"
          ]
        }
      ],
      "source": [
        "print(\"Data type of each variable:\")\n",
        "print(df.dtypes)"
      ]
    },
    {
      "cell_type": "markdown",
      "metadata": {
        "id": "VsRo9NPfqutA"
      },
      "source": [
        "## **Deduplicate Column Names**"
      ]
    },
    {
      "cell_type": "code",
      "execution_count": 10,
      "metadata": {
        "id": "jIEsxvVvqdpD"
      },
      "outputs": [],
      "source": [
        "def deduplicate_columns(columns):\n",
        "    \"\"\"Deduplicate column names for compatibility.\"\"\"\n",
        "    counter = collections.Counter()\n",
        "    new_cols = []\n",
        "    seen = set()\n",
        "    for col in columns:\n",
        "        col = str(col).strip().lower()\n",
        "        col = re.sub(r'[^a-zA-Z0-9]', '_', col)\n",
        "        if not col:\n",
        "            col = 'unnamed'\n",
        "        base_col = col\n",
        "        suffix = counter[base_col]\n",
        "        while col in seen:\n",
        "            suffix += 1\n",
        "            col = f\"{base_col}_{suffix}\"\n",
        "        counter[base_col] += 1\n",
        "        seen.add(col)\n",
        "        new_cols.append(col)\n",
        "    return new_cols"
      ]
    },
    {
      "cell_type": "code",
      "execution_count": 11,
      "metadata": {
        "colab": {
          "base_uri": "https://localhost:8080/"
        },
        "id": "Z1hMo26Tqbq6",
        "outputId": "e56cc7da-4a74-4bca-9f56-f1b9ad595836"
      },
      "outputs": [
        {
          "name": "stdout",
          "output_type": "stream",
          "text": [
            "Deduplicated columns: ['accountsessionidentifier', 'account_domain', 'account_name', 'activityid', 'authenticationprovider', 'authenticationserver', 'authenticationtype', 'calledstationid', 'callerprocessname', 'caller_computer_name', 'caller_domain', 'caller_logon_id', 'caller_machine_name', 'caller_user_name', 'callingstationid', 'categorystring', 'change_type', 'channel', 'clientipaddress', 'clientname', 'client_address', 'client_domain', 'client_logon_id', 'client_machine_name', 'client_user_name', 'computer', 'computername', 'description', 'domain', 'eaptype', 'error_code', 'eventcode', 'eventdata_xml', 'eventid', 'eventrecordid', 'filename', 'fullyqualifiedsubjectmachinename', 'fullyqualifiedsubjectusername', 'group_domain', 'group_name', 'group_type_change', 'guid', 'image_file_name', 'ipaddress', 'ipport', 'keyfilepath', 'keywords', 'level', 'logfilecleared_xml', 'loggingresult', 'logontype', 'logon_account', 'logon_id', 'logon_account_2', 'membername', 'member_id', 'member_name', 'message', 'nasipv4address', 'nasipv6address', 'nasidentifier', 'nasport', 'nasporttype', 'name', 'networkpolicyname', 'new_account_name', 'new_domain', 'objectname', 'opcode', 'primary_domain', 'primary_user_name', 'privilegelist', 'processid', 'process_command_line', 'proxypolicyname', 'recordnumber', 'renderinginfo_xml', 'security_id', 'source_network_address', 'source_workstation', 'substatus', 'subjectdomainname', 'subjectlogonid', 'subjectmachinename', 'subjectmachinesid', 'subjectusername', 'subjectusersid', 'supplied_realm_name', 'systemtime', 'system_props_xml', 'targetdomainname', 'targetprocessname', 'targetservername', 'targetusername', 'target_account_id', 'target_account_name', 'target_domain', 'target_server_name', 'target_user_name', 'task', 'threadid', 'tokenelevationtype', 'token_elevation_type', 'user', 'userdata_xml', 'user_id', 'user_name', 'version', 'workstation', 'workstationname', 'workstation_name', '_raw', '_time', 'action', 'app', 'authentication_method', 'body', 'category', 'change_type_2', 'dest', 'dest_nt_domain', 'direction', 'dvc', 'dvc_nt_host', 'event_id', 'eventtype', 'file_name', 'file_path', 'host', 'id', 'index', 'linecount', 'name_2', 'new_process', 'object', 'object_attrs', 'object_category', 'object_id', 'parent_process', 'parent_process_id', 'parent_process_name', 'parent_process_path', 'process', 'process_exec', 'process_id', 'process_name', 'process_path', 'product', 'protocol', 'protocol_version', 'punct', 'registry_path', 'registry_value_name', 'registry_value_type', 'result', 'service', 'service_id', 'service_name', 'severity', 'severity_id', 'signature', 'signature_id', 'source', 'sourcetype', 'splunk_server', 'splunk_server_group', 'src', 'src_nt_domain', 'src_port', 'src_user', 'src_user_name', 'status', 'subject', 'ta_windows_action', 'ta_windows_security_categorystring', 'ta_windows_status', 'tag', 'tag__action', 'tag__app', 'tag__eventtype', 'tag__object_category', 'user_2', 'user_group', 'user_group_id', 'user_id_2', 'user_name_2', 'user_type', 'vendor', 'vendor_privilege', 'vendor_product']\n"
          ]
        }
      ],
      "source": [
        "df.columns = deduplicate_columns(df.columns)\n",
        "print(f\"Deduplicated columns: {list(df.columns)}\")"
      ]
    },
    {
      "cell_type": "markdown",
      "metadata": {
        "id": "NauSO0SixPXb"
      },
      "source": [
        "# **Dropping Columns**"
      ]
    },
    {
      "cell_type": "markdown",
      "metadata": {
        "id": "i9Cv19yOEtdc"
      },
      "source": [
        "## **No Variance Columns**\n",
        "No variance columns mean columns that have the same values on every entries."
      ]
    },
    {
      "cell_type": "code",
      "execution_count": 12,
      "metadata": {
        "colab": {
          "base_uri": "https://localhost:8080/"
        },
        "id": "RTdUyjhMXBk1",
        "outputId": "bcba2b97-d5d5-4da5-dd53-de1861da643d"
      },
      "outputs": [
        {
          "name": "stdout",
          "output_type": "stream",
          "text": [
            "Columns with no variance:\n",
            "['account_domain', 'account_name', 'activityid', 'authenticationprovider', 'authenticationserver', 'authenticationtype', 'callerprocessname', 'caller_computer_name', 'caller_domain', 'caller_logon_id', 'caller_machine_name', 'categorystring', 'change_type', 'channel', 'client_address', 'client_domain', 'client_logon_id', 'client_machine_name', 'client_user_name', 'computer', 'computername', 'description', 'domain', 'eaptype', 'error_code', 'eventcode', 'eventid', 'filename', 'fullyqualifiedsubjectmachinename', 'group_domain', 'group_name', 'group_type_change', 'guid', 'image_file_name', 'ipaddress', 'ipport', 'keyfilepath', 'keywords', 'level', 'logfilecleared_xml', 'loggingresult', 'logontype', 'logon_account', 'logon_id', 'logon_account_2', 'membername', 'member_id', 'member_name', 'message', 'nasipv6address', 'nasporttype', 'name', 'networkpolicyname', 'new_account_name', 'new_domain', 'objectname', 'opcode', 'primary_domain', 'primary_user_name', 'privilegelist', 'processid', 'process_command_line', 'proxypolicyname', 'renderinginfo_xml', 'security_id', 'source_network_address', 'source_workstation', 'substatus', 'subjectdomainname', 'subjectlogonid', 'subjectmachinename', 'subjectmachinesid', 'supplied_realm_name', 'targetdomainname', 'targetprocessname', 'targetservername', 'targetusername', 'target_account_id', 'target_account_name', 'target_domain', 'target_server_name', 'target_user_name', 'task', 'tokenelevationtype', 'token_elevation_type', 'user', 'userdata_xml', 'user_id', 'user_name', 'version', 'workstation', 'workstationname', 'workstation_name', 'action', 'app', 'authentication_method', 'body', 'category', 'change_type_2', 'dest', 'dest_nt_domain', 'direction', 'dvc', 'dvc_nt_host', 'eventtype', 'file_name', 'file_path', 'host', 'index', 'linecount', 'name_2', 'new_process', 'object', 'object_attrs', 'object_category', 'object_id', 'parent_process', 'parent_process_id', 'parent_process_name', 'parent_process_path', 'process', 'process_exec', 'process_id', 'process_name', 'process_path', 'product', 'protocol', 'protocol_version', 'punct', 'registry_path', 'registry_value_name', 'registry_value_type', 'result', 'service', 'service_id', 'service_name', 'severity', 'severity_id', 'signature', 'signature_id', 'source', 'sourcetype', 'splunk_server', 'splunk_server_group', 'src', 'src_nt_domain', 'src_port', 'src_user_name', 'status', 'subject', 'ta_windows_action', 'ta_windows_security_categorystring', 'ta_windows_status', 'tag', 'tag__action', 'tag__app', 'tag__eventtype', 'tag__object_category', 'user_2', 'user_group', 'user_group_id', 'user_id_2', 'user_name_2', 'user_type', 'vendor', 'vendor_privilege', 'vendor_product']\n"
          ]
        }
      ],
      "source": [
        "dup_cols = [col for col in df.columns if df[col].nunique(dropna=False) == 1]\n",
        "\n",
        "print(\"Columns with no variance:\")\n",
        "print(dup_cols)"
      ]
    },
    {
      "cell_type": "code",
      "execution_count": 13,
      "metadata": {
        "id": "YSYD-krrzEa-"
      },
      "outputs": [],
      "source": [
        "df = df.drop(columns=dup_cols)"
      ]
    },
    {
      "cell_type": "markdown",
      "metadata": {
        "id": "Q-eM4eYDFT6m"
      },
      "source": [
        "## **High Correlation Columns**"
      ]
    },
    {
      "cell_type": "code",
      "execution_count": 14,
      "metadata": {
        "id": "bhDcZe2gdXO7"
      },
      "outputs": [],
      "source": [
        "def visualize_correlation_matrix(df, threshold=0.7):\n",
        "    \"\"\"\n",
        "    A simplified function to visualize correlation matrix for numerical columns\n",
        "\n",
        "    Parameters:\n",
        "    -----------\n",
        "    df : pandas DataFrame\n",
        "        The input DataFrame\n",
        "    threshold : float, default=0.7\n",
        "        Correlation threshold to highlight\n",
        "    \"\"\"\n",
        "    # Get only numeric columns\n",
        "    numeric_df = df.select_dtypes(include=['number'])\n",
        "\n",
        "    # Check if we have enough numeric columns\n",
        "    if numeric_df.shape[1] < 2:\n",
        "        print(\"Not enough numeric columns for correlation analysis.\")\n",
        "        return\n",
        "\n",
        "    # Calculate correlation matrix\n",
        "    corr_matrix = numeric_df.corr()\n",
        "\n",
        "    # Create plot\n",
        "    plt.figure(figsize=(10, 8))\n",
        "\n",
        "    # Create heatmap\n",
        "    sns.heatmap(\n",
        "        corr_matrix,\n",
        "        annot=True,\n",
        "        fmt=\".2f\",\n",
        "        cmap='coolwarm',\n",
        "        vmin=-1, vmax=1,\n",
        "        linewidths=0.5,\n",
        "        cbar_kws={\"label\": \"Correlation\"}\n",
        "    )\n",
        "\n",
        "    # Add title and adjust appearance\n",
        "    plt.title('Correlation Matrix', fontsize=14)\n",
        "    plt.xticks(rotation=45, ha='right')\n",
        "    plt.tight_layout()\n",
        "\n",
        "    # Show the plot\n",
        "    plt.show()\n",
        "\n",
        "    # Print highly correlated pairs\n",
        "    print(f\"Strongly correlated pairs (|correlation| >= {threshold}):\")\n",
        "    for i in range(len(corr_matrix.columns)):\n",
        "        for j in range(i):\n",
        "            if abs(corr_matrix.iloc[i, j]) >= threshold:\n",
        "                print(f\" - {corr_matrix.columns[i]} & {corr_matrix.columns[j]}: {corr_matrix.iloc[i, j]:.2f}\")"
      ]
    },
    {
      "cell_type": "code",
      "execution_count": 15,
      "metadata": {
        "colab": {
          "base_uri": "https://localhost:8080/",
          "height": 934
        },
        "id": "3C0gpXIlf9xY",
        "outputId": "10d49748-dfb6-473b-bda0-7f20142fc8a2"
      },
      "outputs": [
        {
          "data": {
            "image/png": "[encoded data removed]",
            "text/plain": [
              "<Figure size 1000x800 with 2 Axes>"
            ]
          },
          "metadata": {},
          "output_type": "display_data"
        },
        {
          "name": "stdout",
          "output_type": "stream",
          "text": [
            "Strongly correlated pairs (|correlation| >= 0.95):\n",
            " - recordnumber & eventrecordid: 1.00\n",
            " - event_id & eventrecordid: 1.00\n",
            " - event_id & recordnumber: 1.00\n",
            " - id & eventrecordid: 1.00\n",
            " - id & recordnumber: 1.00\n",
            " - id & event_id: 1.00\n"
          ]
        }
      ],
      "source": [
        "corr_matrix = visualize_correlation_matrix(df, threshold=0.95)"
      ]
    },
    {
      "cell_type": "code",
      "execution_count": 16,
      "metadata": {
        "id": "jkx6yfqHgfzN"
      },
      "outputs": [],
      "source": [
        "df = df.drop(['recordnumber', 'event_id', 'id'], axis=1)"
      ]
    },
    {
      "cell_type": "markdown",
      "metadata": {
        "id": "WmJj4UMq0r9g"
      },
      "source": [
        "## **Duplicate Columns**"
      ]
    },
    {
      "cell_type": "code",
      "execution_count": 17,
      "metadata": {
        "id": "tEEtyUJ55-HU"
      },
      "outputs": [],
      "source": [
        "def group_equal_object_columns(df):\n",
        "    # Get only the object columns\n",
        "    object_columns = df.select_dtypes(include=['object']).columns.tolist()\n",
        "\n",
        "    if len(object_columns) < 2:\n",
        "        return \"Less than 2 object columns found\"\n",
        "\n",
        "    # Initialize groups\n",
        "    groups = []\n",
        "    processed_columns = set()\n",
        "\n",
        "    # Process each column\n",
        "    for col1 in object_columns:\n",
        "        # Skip if we've already processed this column\n",
        "        if col1 in processed_columns:\n",
        "            continue\n",
        "\n",
        "        # Start a new group with this column\n",
        "        current_group = [col1]\n",
        "        processed_columns.add(col1)\n",
        "\n",
        "        # Compare with all other unprocessed columns\n",
        "        for col2 in object_columns:\n",
        "            if col2 in processed_columns:\n",
        "                continue\n",
        "\n",
        "            # Check if columns are equal (handling NaN values)\n",
        "            is_equal = ((df[col1] == df[col2]) |\n",
        "                       (pd.isna(df[col1]) & pd.isna(df[col2]))).all()\n",
        "\n",
        "            if is_equal:\n",
        "                current_group.append(col2)\n",
        "                processed_columns.add(col2)\n",
        "\n",
        "        # Add this group to our results\n",
        "        if len(current_group) > 0:\n",
        "            groups.append(current_group)\n",
        "\n",
        "    # Format results nicely\n",
        "    results = []\n",
        "    for group in groups:\n",
        "        if len(group) > 1:\n",
        "            first_col = group[0]\n",
        "            other_cols = group[1:]\n",
        "            results.append(f\"Column '{first_col}' equals to columns {other_cols}\")\n",
        "        else:\n",
        "            results.append(f\"Column '{group[0]}' is unique\")\n",
        "\n",
        "    return results"
      ]
    },
    {
      "cell_type": "code",
      "execution_count": 18,
      "metadata": {
        "colab": {
          "base_uri": "https://localhost:8080/"
        },
        "id": "zzG351sd2GJ_",
        "outputId": "7471b323-2cdc-4421-b320-2710f73a1d14"
      },
      "outputs": [
        {
          "name": "stdout",
          "output_type": "stream",
          "text": [
            "Column 'calledstationid' equals to columns ['clientipaddress', 'nasipv4address']\n",
            "Column 'caller_user_name' equals to columns ['subjectusername', 'src_user']\n",
            "Column 'callingstationid' is unique\n",
            "Column 'clientname' is unique\n",
            "Column 'eventdata_xml' is unique\n",
            "Column 'fullyqualifiedsubjectusername' is unique\n",
            "Column 'nasidentifier' is unique\n",
            "Column 'subjectusersid' is unique\n",
            "Column 'systemtime' is unique\n",
            "Column 'system_props_xml' is unique\n",
            "Column 'threadid' is unique\n",
            "Column '_raw' is unique\n",
            "Column '_time' is unique\n"
          ]
        }
      ],
      "source": [
        "equality_groups = group_equal_object_columns(df)\n",
        "for result in equality_groups:\n",
        "    print(result)"
      ]
    },
    {
      "cell_type": "code",
      "execution_count": 19,
      "metadata": {
        "id": "5aJY94CKKL5V"
      },
      "outputs": [],
      "source": [
        "df = df.drop(['clientipaddress', 'nasipv4address', 'caller_user_name', 'src_user'], axis=1)"
      ]
    },
    {
      "cell_type": "markdown",
      "metadata": {
        "id": "Oju8Bi00AbOi"
      },
      "source": [
        "## **Noisy Columns**"
      ]
    },
    {
      "cell_type": "code",
      "execution_count": 20,
      "metadata": {
        "id": "WW7Dvu8KAq9T"
      },
      "outputs": [],
      "source": [
        "def detect_noisy_columns(file_path):\n",
        "    \"\"\"\n",
        "    Load CSV data and automatically detect XML/noisy columns\n",
        "    without hardcoding any specific column names.\n",
        "\n",
        "    Args:\n",
        "        file_path: Path to the CSV file\n",
        "    Returns:\n",
        "        tuple: (DataFrame, list of detected noisy columns)\n",
        "    \"\"\"\n",
        "\n",
        "    # Track columns with noisy content\n",
        "    noisy_columns = []\n",
        "\n",
        "    for col in df.columns:\n",
        "        if df[col].dtype == object:  # Only check text columns\n",
        "            # Convert to string in case we have non-string objects\n",
        "            sample_values = df[col].astype(str).dropna().head(50)\n",
        "\n",
        "            if len(sample_values) == 0:\n",
        "                continue\n",
        "\n",
        "            # Calculate metrics for this column\n",
        "            avg_length = sample_values.str.len().mean()\n",
        "\n",
        "            # Check for XML patterns (opening/closing tags or XML declarations)\n",
        "            xml_pattern = re.compile(r'<[^>]+>|<\\?xml')\n",
        "            xml_matches = sum(sample_values.apply(lambda x: bool(xml_pattern.search(x))))\n",
        "            xml_ratio = xml_matches / len(sample_values) if len(sample_values) > 0 else 0\n",
        "\n",
        "            # Check for very long text\n",
        "            is_long_text = avg_length > 500\n",
        "\n",
        "            # Special character density (brackets, quotes, etc.)\n",
        "            special_char_pattern = re.compile(r'[<>{}[\\]\"\\'=:]')\n",
        "            special_char_density = sample_values.apply(\n",
        "                lambda x: len(special_char_pattern.findall(x)) / len(x) if len(x) > 0 else 0\n",
        "            ).mean()\n",
        "\n",
        "            # Decision to flag based on combined metrics\n",
        "            if (xml_ratio > 0.3 or              # Has XML content\n",
        "                (is_long_text and special_char_density > 0.05) or  # Long text with many special chars\n",
        "                avg_length > 1000):             # Extremely long text\n",
        "                noisy_columns.append(col)\n",
        "\n",
        "    print(f\"Noisy columns: {noisy_columns}\")\n",
        "\n",
        "    return df, noisy_columns"
      ]
    },
    {
      "cell_type": "code",
      "execution_count": 21,
      "metadata": {
        "colab": {
          "base_uri": "https://localhost:8080/"
        },
        "id": "rhPNV2eRA2ti",
        "outputId": "89e6ba6f-1ee9-4e79-e69e-9b9449d5cd27"
      },
      "outputs": [
        {
          "name": "stdout",
          "output_type": "stream",
          "text": [
            "Noisy columns: ['eventdata_xml', 'system_props_xml', '_raw']\n"
          ]
        }
      ],
      "source": [
        "df, noisy_cols = detect_noisy_columns(df)"
      ]
    },
    {
      "cell_type": "code",
      "execution_count": 22,
      "metadata": {
        "id": "utJZ9UKjBbqn"
      },
      "outputs": [],
      "source": [
        "df = df.drop(columns=noisy_cols)"
      ]
    },
    {
      "cell_type": "markdown",
      "metadata": {
        "id": "_K_sz4jMsslo"
      },
      "source": [
        "# **Missing Values & Duplicates Detection**"
      ]
    },
    {
      "cell_type": "code",
      "execution_count": 23,
      "metadata": {
        "colab": {
          "base_uri": "https://localhost:8080/"
        },
        "id": "2u5_c-UWsrzC",
        "outputId": "70ec4c5d-c540-4096-de9b-b1983a64cd54"
      },
      "outputs": [
        {
          "name": "stdout",
          "output_type": "stream",
          "text": [
            "Missing values per variable:\n",
            "accountsessionidentifier         0\n",
            "calledstationid                  0\n",
            "callingstationid                 0\n",
            "clientname                       0\n",
            "eventrecordid                    0\n",
            "fullyqualifiedsubjectusername    0\n",
            "nasidentifier                    0\n",
            "nasport                          0\n",
            "subjectusername                  0\n",
            "subjectusersid                   0\n",
            "systemtime                       0\n",
            "threadid                         0\n",
            "_time                            0\n",
            "dtype: int64\n"
          ]
        }
      ],
      "source": [
        "print(\"Missing values per variable:\")\n",
        "missing_values = df.isnull().sum()\n",
        "print(missing_values)"
      ]
    },
    {
      "cell_type": "code",
      "execution_count": 24,
      "metadata": {
        "colab": {
          "base_uri": "https://localhost:8080/"
        },
        "id": "Z-i_nFMessFs",
        "outputId": "af0f5f38-894b-4776-fc25-d0f6ae2e5100"
      },
      "outputs": [
        {
          "name": "stdout",
          "output_type": "stream",
          "text": [
            "Amount of duplicates found:\n",
            "0\n"
          ]
        }
      ],
      "source": [
        "print(\"Amount of duplicates found:\")\n",
        "duplicates = df.duplicated().sum()\n",
        "print(duplicates)"
      ]
    },
    {
      "cell_type": "markdown",
      "metadata": {
        "id": "L6pn7-bYFaij"
      },
      "source": [
        "# **Dataset Overview after Cleaning**"
      ]
    },
    {
      "cell_type": "code",
      "execution_count": 25,
      "metadata": {
        "colab": {
          "base_uri": "https://localhost:8080/",
          "height": 573
        },
        "id": "9zkQH9Pxx6ah",
        "outputId": "ad117ccc-e2c7-4b1e-8978-a4f35e55db65"
      },
      "outputs": [
        {
          "data": {
            "text/html": [
              "<div>\n",
              "<style scoped>\n",
              "    .dataframe tbody tr th:only-of-type {\n",
              "        vertical-align: middle;\n",
              "    }\n",
              "\n",
              "    .dataframe tbody tr th {\n",
              "        vertical-align: top;\n",
              "    }\n",
              "\n",
              "    .dataframe thead th {\n",
              "        text-align: right;\n",
              "    }\n",
              "</style>\n",
              "<table border=\"1\" class=\"dataframe\">\n",
              "  <thead>\n",
              "    <tr style=\"text-align: right;\">\n",
              "      <th></th>\n",
              "      <th>accountsessionidentifier</th>\n",
              "      <th>calledstationid</th>\n",
              "      <th>callingstationid</th>\n",
              "      <th>clientname</th>\n",
              "      <th>eventrecordid</th>\n",
              "      <th>fullyqualifiedsubjectusername</th>\n",
              "      <th>nasidentifier</th>\n",
              "      <th>nasport</th>\n",
              "      <th>subjectusername</th>\n",
              "      <th>subjectusersid</th>\n",
              "      <th>systemtime</th>\n",
              "      <th>threadid</th>\n",
              "      <th>_time</th>\n",
              "    </tr>\n",
              "  </thead>\n",
              "  <tbody>\n",
              "    <tr>\n",
              "      <th>0</th>\n",
              "      <td>3635303236</td>\n",
              "      <td>10.86.34.14</td>\n",
              "      <td>113.174.18.186</td>\n",
              "      <td>VPN-34.14</td>\n",
              "      <td>141312289</td>\n",
              "      <td>fsoft.fpt.vn/FPT/FIS/FIS HCM/FIS GS HCM/GS GOV...</td>\n",
              "      <td>HO-L2TP</td>\n",
              "      <td>264</td>\n",
              "      <td>huyhk8</td>\n",
              "      <td>S-1-5-21-1078879581-106171156-1039276024-927883</td>\n",
              "      <td>'2025-04-01T07:24:07.7813455Z'</td>\n",
              "      <td>'10208'</td>\n",
              "      <td>2025-04-01T14:24:07.000+0700</td>\n",
              "    </tr>\n",
              "    <tr>\n",
              "      <th>1</th>\n",
              "      <td>3339323731</td>\n",
              "      <td>10.86.34.13</td>\n",
              "      <td>14.233.37.124</td>\n",
              "      <td>VPN-34.13</td>\n",
              "      <td>141312239</td>\n",
              "      <td>fsoft.fpt.vn/FPT/FIS/FIS HCM/FIS GS HCM/GS GOV...</td>\n",
              "      <td>HO-L2TP03</td>\n",
              "      <td>149</td>\n",
              "      <td>nhalt8</td>\n",
              "      <td>S-1-5-21-1078879581-106171156-1039276024-929201</td>\n",
              "      <td>'2025-04-01T07:23:27.5756462Z'</td>\n",
              "      <td>'10172'</td>\n",
              "      <td>2025-04-01T14:23:27.000+0700</td>\n",
              "    </tr>\n",
              "    <tr>\n",
              "      <th>2</th>\n",
              "      <td>3635303235</td>\n",
              "      <td>10.86.34.14</td>\n",
              "      <td>103.199.33.4</td>\n",
              "      <td>VPN-34.14</td>\n",
              "      <td>141312221</td>\n",
              "      <td>fsoft.fpt.vn/FPT/FIS/FPT IS HCM/FIS BNKHCM/BNK...</td>\n",
              "      <td>HO-L2TP</td>\n",
              "      <td>253</td>\n",
              "      <td>ThangNH29</td>\n",
              "      <td>S-1-5-21-1078879581-106171156-1039276024-963688</td>\n",
              "      <td>'2025-04-01T07:23:02.3227246Z'</td>\n",
              "      <td>'904'</td>\n",
              "      <td>2025-04-01T14:23:02.000+0700</td>\n",
              "    </tr>\n",
              "    <tr>\n",
              "      <th>3</th>\n",
              "      <td>3635303234</td>\n",
              "      <td>10.86.34.14</td>\n",
              "      <td>113.185.86.130</td>\n",
              "      <td>VPN-34.14</td>\n",
              "      <td>141312079</td>\n",
              "      <td>fsoft.fpt.vn/FPT/FIS/NEW_USERS/ThaoBTP11</td>\n",
              "      <td>HO-L2TP</td>\n",
              "      <td>28</td>\n",
              "      <td>thaobtp11</td>\n",
              "      <td>S-1-5-21-1078879581-106171156-1039276024-1212216</td>\n",
              "      <td>'2025-04-01T07:21:02.5495963Z'</td>\n",
              "      <td>'8440'</td>\n",
              "      <td>2025-04-01T14:21:02.000+0700</td>\n",
              "    </tr>\n",
              "    <tr>\n",
              "      <th>4</th>\n",
              "      <td>3635303233</td>\n",
              "      <td>10.86.34.14</td>\n",
              "      <td>21.141.130.220</td>\n",
              "      <td>VPN-34.14</td>\n",
              "      <td>141312068</td>\n",
              "      <td>fsoft.fpt.vn/FPT/FIS/FPT IS HCM/FIS HC HCM/HC ...</td>\n",
              "      <td>HO-L2TP</td>\n",
              "      <td>270</td>\n",
              "      <td>hungnv103</td>\n",
              "      <td>S-1-5-21-1078879581-106171156-1039276024-963543</td>\n",
              "      <td>'2025-04-01T07:20:53.3688777Z'</td>\n",
              "      <td>'10172'</td>\n",
              "      <td>2025-04-01T14:20:53.000+0700</td>\n",
              "    </tr>\n",
              "  </tbody>\n",
              "</table>\n",
              "</div>"
            ],
            "text/plain": [
              "   accountsessionidentifier calledstationid callingstationid clientname  \\\n",
              "0                3635303236     10.86.34.14   113.174.18.186  VPN-34.14   \n",
              "1                3339323731     10.86.34.13    14.233.37.124  VPN-34.13   \n",
              "2                3635303235     10.86.34.14     103.199.33.4  VPN-34.14   \n",
              "3                3635303234     10.86.34.14   113.185.86.130  VPN-34.14   \n",
              "4                3635303233     10.86.34.14   21.141.130.220  VPN-34.14   \n",
              "\n",
              "   eventrecordid                      fullyqualifiedsubjectusername  \\\n",
              "0      141312289  fsoft.fpt.vn/FPT/FIS/FIS HCM/FIS GS HCM/GS GOV...   \n",
              "1      141312239  fsoft.fpt.vn/FPT/FIS/FIS HCM/FIS GS HCM/GS GOV...   \n",
              "2      141312221  fsoft.fpt.vn/FPT/FIS/FPT IS HCM/FIS BNKHCM/BNK...   \n",
              "3      141312079           fsoft.fpt.vn/FPT/FIS/NEW_USERS/ThaoBTP11   \n",
              "4      141312068  fsoft.fpt.vn/FPT/FIS/FPT IS HCM/FIS HC HCM/HC ...   \n",
              "\n",
              "  nasidentifier  nasport subjectusername  \\\n",
              "0       HO-L2TP      264          huyhk8   \n",
              "1     HO-L2TP03      149          nhalt8   \n",
              "2       HO-L2TP      253       ThangNH29   \n",
              "3       HO-L2TP       28       thaobtp11   \n",
              "4       HO-L2TP      270       hungnv103   \n",
              "\n",
              "                                     subjectusersid  \\\n",
              "0   S-1-5-21-1078879581-106171156-1039276024-927883   \n",
              "1   S-1-5-21-1078879581-106171156-1039276024-929201   \n",
              "2   S-1-5-21-1078879581-106171156-1039276024-963688   \n",
              "3  S-1-5-21-1078879581-106171156-1039276024-1212216   \n",
              "4   S-1-5-21-1078879581-106171156-1039276024-963543   \n",
              "\n",
              "                       systemtime threadid                         _time  \n",
              "0  '2025-04-01T07:24:07.7813455Z'  '10208'  2025-04-01T14:24:07.000+0700  \n",
              "1  '2025-04-01T07:23:27.5756462Z'  '10172'  2025-04-01T14:23:27.000+0700  \n",
              "2  '2025-04-01T07:23:02.3227246Z'    '904'  2025-04-01T14:23:02.000+0700  \n",
              "3  '2025-04-01T07:21:02.5495963Z'   '8440'  2025-04-01T14:21:02.000+0700  \n",
              "4  '2025-04-01T07:20:53.3688777Z'  '10172'  2025-04-01T14:20:53.000+0700  "
            ]
          },
          "execution_count": 25,
          "metadata": {},
          "output_type": "execute_result"
        }
      ],
      "source": [
        "df.head()"
      ]
    },
    {
      "cell_type": "code",
      "execution_count": 26,
      "metadata": {
        "colab": {
          "base_uri": "https://localhost:8080/"
        },
        "id": "B8KP4NTbWy0H",
        "outputId": "43350de6-867d-48ef-b3e4-679d1776a67c"
      },
      "outputs": [
        {
          "name": "stdout",
          "output_type": "stream",
          "text": [
            "Number of records and variables after deleting:\n",
            "(1030, 13)\n"
          ]
        }
      ],
      "source": [
        "print(\"Number of records and variables after deleting:\")\n",
        "print(df.shape)"
      ]
    },
    {
      "cell_type": "code",
      "execution_count": 27,
      "metadata": {
        "colab": {
          "base_uri": "https://localhost:8080/"
        },
        "id": "xzw5PLhqDMDN",
        "outputId": "c80fe712-6c14-4c42-a873-73efa3c2db7f"
      },
      "outputs": [
        {
          "name": "stdout",
          "output_type": "stream",
          "text": [
            "Missing values per variable:\n",
            "accountsessionidentifier         0\n",
            "calledstationid                  0\n",
            "callingstationid                 0\n",
            "clientname                       0\n",
            "eventrecordid                    0\n",
            "fullyqualifiedsubjectusername    0\n",
            "nasidentifier                    0\n",
            "nasport                          0\n",
            "subjectusername                  0\n",
            "subjectusersid                   0\n",
            "systemtime                       0\n",
            "threadid                         0\n",
            "_time                            0\n",
            "dtype: int64\n"
          ]
        }
      ],
      "source": [
        "print(\"Missing values per variable:\")\n",
        "missing_values = df.isnull().sum()\n",
        "print(missing_values)"
      ]
    },
    {
      "cell_type": "code",
      "execution_count": 28,
      "metadata": {
        "colab": {
          "base_uri": "https://localhost:8080/"
        },
        "id": "AU_cQsKG5X-x",
        "outputId": "d5390207-72fa-4a5b-b3e3-1346eb14340c"
      },
      "outputs": [
        {
          "name": "stdout",
          "output_type": "stream",
          "text": [
            "Data type of each variable:\n",
            "accountsessionidentifier          int64\n",
            "calledstationid                  object\n",
            "callingstationid                 object\n",
            "clientname                       object\n",
            "eventrecordid                     int64\n",
            "fullyqualifiedsubjectusername    object\n",
            "nasidentifier                    object\n",
            "nasport                           int64\n",
            "subjectusername                  object\n",
            "subjectusersid                   object\n",
            "systemtime                       object\n",
            "threadid                         object\n",
            "_time                            object\n",
            "dtype: object\n"
          ]
        }
      ],
      "source": [
        "print(\"Data type of each variable:\")\n",
        "print(df.dtypes)"
      ]
    },
    {
      "cell_type": "markdown",
      "metadata": {
        "id": "XUHHzwLay6Gz"
      },
      "source": [
        "# **Formatting Columns**"
      ]
    },
    {
      "cell_type": "markdown",
      "metadata": {
        "id": "MMI61cPz2_MI"
      },
      "source": [
        "## **'timestamps' Columns**"
      ]
    },
    {
      "cell_type": "markdown",
      "metadata": {
        "id": "NQxGSVzPzUq9"
      },
      "source": [
        "Check the current format of timestamp columns"
      ]
    },
    {
      "cell_type": "code",
      "execution_count": 29,
      "metadata": {
        "colab": {
          "base_uri": "https://localhost:8080/"
        },
        "id": "eUIWxQpwzkN1",
        "outputId": "6a453706-dc9b-4d4d-bcc2-356f8647fb99"
      },
      "outputs": [
        {
          "name": "stdout",
          "output_type": "stream",
          "text": [
            "Timestamp columns - before formatting:\n",
            "\n",
            "SystemTime - first 3 values:\n",
            "0    '2025-04-01T07:24:07.7813455Z'\n",
            "1    '2025-04-01T07:23:27.5756462Z'\n",
            "2    '2025-04-01T07:23:02.3227246Z'\n",
            "Name: systemtime, dtype: object\n",
            "\n",
            "_time - first 3 values:\n",
            "0    2025-04-01T14:24:07.000+0700\n",
            "1    2025-04-01T14:23:27.000+0700\n",
            "2    2025-04-01T14:23:02.000+0700\n",
            "Name: _time, dtype: object\n"
          ]
        }
      ],
      "source": [
        "print(\"Timestamp columns - before formatting:\")\n",
        "print(\"\\nSystemTime - first 3 values:\")\n",
        "print(df['systemtime'].head(3))\n",
        "print(\"\\n_time - first 3 values:\")\n",
        "print(df['_time'].head(3))"
      ]
    },
    {
      "cell_type": "markdown",
      "metadata": {
        "id": "Ha2kPuegzbGv"
      },
      "source": [
        "Remove quotes from SystemTime if it's a string type column"
      ]
    },
    {
      "cell_type": "code",
      "execution_count": 30,
      "metadata": {
        "id": "wdWVM-9yzaI6"
      },
      "outputs": [],
      "source": [
        "if df['systemtime'].dtype == 'object':\n",
        "    df['systemtime'] = df['systemtime'].str.replace(\"'\", \"\")"
      ]
    },
    {
      "cell_type": "markdown",
      "metadata": {
        "id": "Yga_neDAzk1I"
      },
      "source": [
        "Convert both columns to datetime"
      ]
    },
    {
      "cell_type": "code",
      "execution_count": 31,
      "metadata": {
        "id": "VeGEdyJ8zj5H"
      },
      "outputs": [],
      "source": [
        "df['systemtime'] = pd.to_datetime(df['systemtime'], errors='coerce')\n",
        "df['_time'] = pd.to_datetime(df['_time'], errors='coerce')"
      ]
    },
    {
      "cell_type": "markdown",
      "metadata": {
        "id": "rNfpw4MzzoZ9"
      },
      "source": [
        "Convert both to UTC+7"
      ]
    },
    {
      "cell_type": "code",
      "execution_count": 32,
      "metadata": {
        "id": "AMgEJrU9zomq"
      },
      "outputs": [],
      "source": [
        "df['systemtime'] = df['systemtime'] + pd.Timedelta(hours=7)\n",
        "# _time is already in the correct timezone"
      ]
    },
    {
      "cell_type": "markdown",
      "metadata": {
        "id": "19Tzcd5Xztmr"
      },
      "source": [
        "Format both with time zone marker"
      ]
    },
    {
      "cell_type": "code",
      "execution_count": 33,
      "metadata": {
        "id": "2d2NIJ8K1M_O"
      },
      "outputs": [],
      "source": [
        "df['systemtime'] = df['systemtime'].dt.strftime('%Y-%m-%d %H:%M:%S') + '+07:00'\n",
        "df['_time'] = df['_time'].dt.strftime('%Y-%m-%d %H:%M:%S') + '+07:00'"
      ]
    },
    {
      "cell_type": "markdown",
      "metadata": {
        "id": "70jdwz8Pz3B5"
      },
      "source": [
        "Check if they're equal using numpy"
      ]
    },
    {
      "cell_type": "code",
      "execution_count": 34,
      "metadata": {
        "colab": {
          "base_uri": "https://localhost:8080/"
        },
        "id": "U5vJvPX-JxiA",
        "outputId": "965f28cf-a0f0-463b-d4bb-e10741c327be"
      },
      "outputs": [
        {
          "name": "stdout",
          "output_type": "stream",
          "text": [
            "True\n"
          ]
        }
      ],
      "source": [
        "are_equal = np.array_equal(df['systemtime'].values, df['_time'].values)\n",
        "print(are_equal)"
      ]
    },
    {
      "cell_type": "markdown",
      "metadata": {
        "id": "3BNugrMYz9Qh"
      },
      "source": [
        "They're identical, so just use one column"
      ]
    },
    {
      "cell_type": "code",
      "execution_count": 35,
      "metadata": {
        "id": "3ysJ3TkbJ0Q9"
      },
      "outputs": [],
      "source": [
        "df = df.drop(['systemtime'], axis=1)\n",
        "\n",
        "# Modify the name\n",
        "df['timestamp'] = df['_time']\n",
        "\n",
        "# Drop _time\n",
        "df = df.drop(['_time'], axis=1)\n"
      ]
    },
    {
      "cell_type": "markdown",
      "metadata": {
        "id": "VeRGVvKE0JcO"
      },
      "source": [
        "Check the results"
      ]
    },
    {
      "cell_type": "code",
      "execution_count": 36,
      "metadata": {
        "colab": {
          "base_uri": "https://localhost:8080/"
        },
        "id": "RDMXbRvZ1NaB",
        "outputId": "248e8a9e-d769-4c4c-b82e-c81d457a1099"
      },
      "outputs": [
        {
          "name": "stdout",
          "output_type": "stream",
          "text": [
            "Timestamp column - after formatting:\n",
            "0    2025-04-01 14:24:07+07:00\n",
            "1    2025-04-01 14:23:27+07:00\n",
            "2    2025-04-01 14:23:02+07:00\n",
            "3    2025-04-01 14:21:02+07:00\n",
            "4    2025-04-01 14:20:53+07:00\n",
            "Name: timestamp, dtype: object\n"
          ]
        }
      ],
      "source": [
        "print(\"Timestamp column - after formatting:\")\n",
        "print(df['timestamp'].head())"
      ]
    },
    {
      "cell_type": "markdown",
      "metadata": {
        "id": "RJs6p9y21SLp"
      },
      "source": [
        "### **Feature Extraction**"
      ]
    },
    {
      "cell_type": "markdown",
      "metadata": {
        "id": "ttfzidxH6DBM"
      },
      "source": [
        "Extract hour for time analysis (temporary string manipulation for the datetime conversion)"
      ]
    },
    {
      "cell_type": "code",
      "execution_count": 37,
      "metadata": {
        "id": "9Ggqdcrk2ZFF"
      },
      "outputs": [],
      "source": [
        "df['hour_of_day'] = pd.to_datetime(df['timestamp'].str.replace('\\\\+07:00', '')).dt.hour\n",
        "\n",
        "# Create time category for analysis\n",
        "df['time_category'] = pd.cut(\n",
        "    df['hour_of_day'],\n",
        "    bins=[0, 6, 12, 18, 24],\n",
        "    labels=['night_(0-6)', 'morning_(6-12)', 'afternoon_(12-18)', 'evening_(18-24)']\n",
        ")"
      ]
    },
    {
      "cell_type": "code",
      "execution_count": 38,
      "metadata": {
        "colab": {
          "base_uri": "https://localhost:8080/"
        },
        "id": "H_4G3cpw2x-F",
        "outputId": "06ebee98-f30c-4e95-8ae2-09f7543ba7e3"
      },
      "outputs": [
        {
          "name": "stdout",
          "output_type": "stream",
          "text": [
            "0    2025-04-01 14:24:07+07:00\n",
            "1    2025-04-01 14:23:27+07:00\n",
            "2    2025-04-01 14:23:02+07:00\n",
            "3    2025-04-01 14:21:02+07:00\n",
            "4    2025-04-01 14:20:53+07:00\n",
            "Name: timestamp, dtype: object \n",
            "\n",
            "0    14\n",
            "1    14\n",
            "2    14\n",
            "3    14\n",
            "4    14\n",
            "Name: hour_of_day, dtype: int32 \n",
            "\n",
            "0    afternoon_(12-18)\n",
            "1    afternoon_(12-18)\n",
            "2    afternoon_(12-18)\n",
            "3    afternoon_(12-18)\n",
            "4    afternoon_(12-18)\n",
            "Name: time_category, dtype: category\n",
            "Categories (4, object): ['night_(0-6)' < 'morning_(6-12)' < 'afternoon_(12-18)' < 'evening_(18-24)']\n"
          ]
        }
      ],
      "source": [
        "print(df['timestamp'].head(5), \"\\n\")\n",
        "print(df['hour_of_day'].head(5), \"\\n\")\n",
        "print(df['time_category'].head(5))"
      ]
    },
    {
      "cell_type": "markdown",
      "metadata": {
        "id": "OeScoY1J3Dmw"
      },
      "source": [
        "## **'username' Columns**"
      ]
    },
    {
      "cell_type": "markdown",
      "metadata": {
        "id": "okcIRmUs2mIb"
      },
      "source": [
        "Check the current format of username column"
      ]
    },
    {
      "cell_type": "code",
      "execution_count": 39,
      "metadata": {
        "colab": {
          "base_uri": "https://localhost:8080/"
        },
        "id": "i81BnQ5C4N9t",
        "outputId": "ffa97882-123f-46a0-8d29-b21f70076391"
      },
      "outputs": [
        {
          "name": "stdout",
          "output_type": "stream",
          "text": [
            "Username column - before formatting:\n",
            "0           huyhk8\n",
            "1           nhalt8\n",
            "2        ThangNH29\n",
            "3        thaobtp11\n",
            "4        hungnv103\n",
            "5         HieuVM26\n",
            "6    SonHG@fpt.com\n",
            "7          dungndm\n",
            "8    SonHG@fpt.com\n",
            "9          sonth28\n",
            "Name: subjectusername, dtype: object\n"
          ]
        }
      ],
      "source": [
        "print(\"Username column - before formatting:\")\n",
        "print(df['subjectusername'].head(10))"
      ]
    },
    {
      "cell_type": "markdown",
      "metadata": {
        "id": "4mzwyBzr5HfO"
      },
      "source": [
        "Define a function to clean the username"
      ]
    },
    {
      "cell_type": "code",
      "execution_count": 40,
      "metadata": {
        "id": "QsKNpoNLK8CR"
      },
      "outputs": [],
      "source": [
        "def clean_username(username):\n",
        "    if pd.isna(username):\n",
        "        return username\n",
        "\n",
        "    # Extract just the username from email format if present\n",
        "    if isinstance(username, str) and '@' in username:\n",
        "        username = username.split('@')[0]\n",
        "\n",
        "    return username"
      ]
    },
    {
      "cell_type": "code",
      "execution_count": 41,
      "metadata": {
        "id": "feIKYTkkO89K"
      },
      "outputs": [],
      "source": [
        "df['subjectusername'] = df['subjectusername'].apply(clean_username)"
      ]
    },
    {
      "cell_type": "markdown",
      "metadata": {
        "id": "MZGw637A5E5Y"
      },
      "source": [
        "Check the results"
      ]
    },
    {
      "cell_type": "code",
      "execution_count": 42,
      "metadata": {
        "colab": {
          "base_uri": "https://localhost:8080/"
        },
        "id": "jZZZ_M49LGiA",
        "outputId": "2ed9129c-09d4-4ee8-f646-521317ceb3ec"
      },
      "outputs": [
        {
          "name": "stdout",
          "output_type": "stream",
          "text": [
            "Username column - after formatting:\n",
            "0       huyhk8\n",
            "1       nhalt8\n",
            "2    ThangNH29\n",
            "3    thaobtp11\n",
            "4    hungnv103\n",
            "5     HieuVM26\n",
            "6        SonHG\n",
            "7      dungndm\n",
            "8        SonHG\n",
            "9      sonth28\n",
            "Name: subjectusername, dtype: object\n"
          ]
        }
      ],
      "source": [
        "print(\"Username column - after formatting:\")\n",
        "print(df['subjectusername'].head(10))"
      ]
    },
    {
      "cell_type": "markdown",
      "metadata": {
        "id": "QUb_CzvJ1yHX"
      },
      "source": [
        "## **'department' Columns**"
      ]
    },
    {
      "cell_type": "code",
      "execution_count": 43,
      "metadata": {
        "colab": {
          "base_uri": "https://localhost:8080/"
        },
        "id": "Hy7KXhq_5VeK",
        "outputId": "3fdeb683-1f96-4459-96aa-61206d4b39a1"
      },
      "outputs": [
        {
          "name": "stdout",
          "output_type": "stream",
          "text": [
            "Department column:\n",
            "0    fsoft.fpt.vn/FPT/FIS/FIS HCM/FIS GS HCM/GS GOV...\n",
            "1    fsoft.fpt.vn/FPT/FIS/FIS HCM/FIS GS HCM/GS GOV...\n",
            "2    fsoft.fpt.vn/FPT/FIS/FPT IS HCM/FIS BNKHCM/BNK...\n",
            "3             fsoft.fpt.vn/FPT/FIS/NEW_USERS/ThaoBTP11\n",
            "4    fsoft.fpt.vn/FPT/FIS/FPT IS HCM/FIS HC HCM/HC ...\n",
            "5    fsoft.fpt.vn/FPT/FIS/FPT IS HCM/FIS BNKHCM/BNK...\n",
            "6    fsoft.fpt.vn/FPT/FIS/FIS HCM/FIS ES HCM/ES PB1...\n",
            "7    fsoft.fpt.vn/FPT/FIS/FPT IS HCM/FIS BNKHCM/BNK...\n",
            "8    fsoft.fpt.vn/FPT/FIS/FIS HCM/FIS ES HCM/ES PB1...\n",
            "9               fsoft.fpt.vn/FPT/FIS/NEW_USERS/SonTH28\n",
            "Name: fullyqualifiedsubjectusername, dtype: object\n"
          ]
        }
      ],
      "source": [
        "print(\"Department column:\")\n",
        "print(df['fullyqualifiedsubjectusername'].head(10))"
      ]
    },
    {
      "cell_type": "markdown",
      "metadata": {
        "id": "Wm0Ru7Ao52eK"
      },
      "source": [
        "### **Feature Extraction**"
      ]
    },
    {
      "cell_type": "code",
      "execution_count": 44,
      "metadata": {
        "id": "5yYLvZHnLmaJ"
      },
      "outputs": [],
      "source": [
        "def extract_department(full_name):\n",
        "    if pd.isna(full_name) or not isinstance(full_name, str):\n",
        "        return None\n",
        "\n",
        "    # Split by slashes\n",
        "    parts = full_name.split('/')\n",
        "\n",
        "    # Extract FIS HCM (usually the fourth part)\n",
        "    dept = parts[3] if len(parts) > 3 else None\n",
        "\n",
        "    return dept"
      ]
    },
    {
      "cell_type": "markdown",
      "metadata": {
        "id": "z8MVmV0T59AN"
      },
      "source": [
        "Apply the extraction and create new department column"
      ]
    },
    {
      "cell_type": "code",
      "execution_count": 45,
      "metadata": {
        "id": "49xDptWx2AH4"
      },
      "outputs": [],
      "source": [
        "df['department'] = df['fullyqualifiedsubjectusername'].apply(extract_department)"
      ]
    },
    {
      "cell_type": "code",
      "execution_count": 46,
      "metadata": {
        "colab": {
          "base_uri": "https://localhost:8080/"
        },
        "id": "QOJDKfAmLp7M",
        "outputId": "fa252db0-4a89-4a0f-d254-bb8ecec8cb85"
      },
      "outputs": [
        {
          "name": "stdout",
          "output_type": "stream",
          "text": [
            "0       FIS HCM\n",
            "1       FIS HCM\n",
            "2    FPT IS HCM\n",
            "3     NEW_USERS\n",
            "4    FPT IS HCM\n",
            "5    FPT IS HCM\n",
            "6       FIS HCM\n",
            "7    FPT IS HCM\n",
            "8       FIS HCM\n",
            "9     NEW_USERS\n",
            "Name: department, dtype: object\n"
          ]
        }
      ],
      "source": [
        "print(df['department'].head(10))"
      ]
    },
    {
      "cell_type": "markdown",
      "metadata": {
        "id": "6ev6A6Kp2sLC"
      },
      "source": [
        "# **Dataset After Formatting**"
      ]
    },
    {
      "cell_type": "code",
      "execution_count": 47,
      "metadata": {
        "colab": {
          "base_uri": "https://localhost:8080/",
          "height": 573
        },
        "id": "5BGoel3_OrzN",
        "outputId": "2353b35b-9d91-4f43-826d-1f782f8aeb80"
      },
      "outputs": [
        {
          "data": {
            "text/html": [
              "<div>\n",
              "<style scoped>\n",
              "    .dataframe tbody tr th:only-of-type {\n",
              "        vertical-align: middle;\n",
              "    }\n",
              "\n",
              "    .dataframe tbody tr th {\n",
              "        vertical-align: top;\n",
              "    }\n",
              "\n",
              "    .dataframe thead th {\n",
              "        text-align: right;\n",
              "    }\n",
              "</style>\n",
              "<table border=\"1\" class=\"dataframe\">\n",
              "  <thead>\n",
              "    <tr style=\"text-align: right;\">\n",
              "      <th></th>\n",
              "      <th>accountsessionidentifier</th>\n",
              "      <th>calledstationid</th>\n",
              "      <th>callingstationid</th>\n",
              "      <th>clientname</th>\n",
              "      <th>eventrecordid</th>\n",
              "      <th>fullyqualifiedsubjectusername</th>\n",
              "      <th>nasidentifier</th>\n",
              "      <th>nasport</th>\n",
              "      <th>subjectusername</th>\n",
              "      <th>subjectusersid</th>\n",
              "      <th>threadid</th>\n",
              "      <th>timestamp</th>\n",
              "      <th>hour_of_day</th>\n",
              "      <th>time_category</th>\n",
              "      <th>department</th>\n",
              "    </tr>\n",
              "  </thead>\n",
              "  <tbody>\n",
              "    <tr>\n",
              "      <th>0</th>\n",
              "      <td>3635303236</td>\n",
              "      <td>10.86.34.14</td>\n",
              "      <td>113.174.18.186</td>\n",
              "      <td>VPN-34.14</td>\n",
              "      <td>141312289</td>\n",
              "      <td>fsoft.fpt.vn/FPT/FIS/FIS HCM/FIS GS HCM/GS GOV...</td>\n",
              "      <td>HO-L2TP</td>\n",
              "      <td>264</td>\n",
              "      <td>huyhk8</td>\n",
              "      <td>S-1-5-21-1078879581-106171156-1039276024-927883</td>\n",
              "      <td>'10208'</td>\n",
              "      <td>2025-04-01 14:24:07+07:00</td>\n",
              "      <td>14</td>\n",
              "      <td>afternoon_(12-18)</td>\n",
              "      <td>FIS HCM</td>\n",
              "    </tr>\n",
              "    <tr>\n",
              "      <th>1</th>\n",
              "      <td>3339323731</td>\n",
              "      <td>10.86.34.13</td>\n",
              "      <td>14.233.37.124</td>\n",
              "      <td>VPN-34.13</td>\n",
              "      <td>141312239</td>\n",
              "      <td>fsoft.fpt.vn/FPT/FIS/FIS HCM/FIS GS HCM/GS GOV...</td>\n",
              "      <td>HO-L2TP03</td>\n",
              "      <td>149</td>\n",
              "      <td>nhalt8</td>\n",
              "      <td>S-1-5-21-1078879581-106171156-1039276024-929201</td>\n",
              "      <td>'10172'</td>\n",
              "      <td>2025-04-01 14:23:27+07:00</td>\n",
              "      <td>14</td>\n",
              "      <td>afternoon_(12-18)</td>\n",
              "      <td>FIS HCM</td>\n",
              "    </tr>\n",
              "    <tr>\n",
              "      <th>2</th>\n",
              "      <td>3635303235</td>\n",
              "      <td>10.86.34.14</td>\n",
              "      <td>103.199.33.4</td>\n",
              "      <td>VPN-34.14</td>\n",
              "      <td>141312221</td>\n",
              "      <td>fsoft.fpt.vn/FPT/FIS/FPT IS HCM/FIS BNKHCM/BNK...</td>\n",
              "      <td>HO-L2TP</td>\n",
              "      <td>253</td>\n",
              "      <td>ThangNH29</td>\n",
              "      <td>S-1-5-21-1078879581-106171156-1039276024-963688</td>\n",
              "      <td>'904'</td>\n",
              "      <td>2025-04-01 14:23:02+07:00</td>\n",
              "      <td>14</td>\n",
              "      <td>afternoon_(12-18)</td>\n",
              "      <td>FPT IS HCM</td>\n",
              "    </tr>\n",
              "    <tr>\n",
              "      <th>3</th>\n",
              "      <td>3635303234</td>\n",
              "      <td>10.86.34.14</td>\n",
              "      <td>113.185.86.130</td>\n",
              "      <td>VPN-34.14</td>\n",
              "      <td>141312079</td>\n",
              "      <td>fsoft.fpt.vn/FPT/FIS/NEW_USERS/ThaoBTP11</td>\n",
              "      <td>HO-L2TP</td>\n",
              "      <td>28</td>\n",
              "      <td>thaobtp11</td>\n",
              "      <td>S-1-5-21-1078879581-106171156-1039276024-1212216</td>\n",
              "      <td>'8440'</td>\n",
              "      <td>2025-04-01 14:21:02+07:00</td>\n",
              "      <td>14</td>\n",
              "      <td>afternoon_(12-18)</td>\n",
              "      <td>NEW_USERS</td>\n",
              "    </tr>\n",
              "    <tr>\n",
              "      <th>4</th>\n",
              "      <td>3635303233</td>\n",
              "      <td>10.86.34.14</td>\n",
              "      <td>21.141.130.220</td>\n",
              "      <td>VPN-34.14</td>\n",
              "      <td>141312068</td>\n",
              "      <td>fsoft.fpt.vn/FPT/FIS/FPT IS HCM/FIS HC HCM/HC ...</td>\n",
              "      <td>HO-L2TP</td>\n",
              "      <td>270</td>\n",
              "      <td>hungnv103</td>\n",
              "      <td>S-1-5-21-1078879581-106171156-1039276024-963543</td>\n",
              "      <td>'10172'</td>\n",
              "      <td>2025-04-01 14:20:53+07:00</td>\n",
              "      <td>14</td>\n",
              "      <td>afternoon_(12-18)</td>\n",
              "      <td>FPT IS HCM</td>\n",
              "    </tr>\n",
              "  </tbody>\n",
              "</table>\n",
              "</div>"
            ],
            "text/plain": [
              "   accountsessionidentifier calledstationid callingstationid clientname  \\\n",
              "0                3635303236     10.86.34.14   113.174.18.186  VPN-34.14   \n",
              "1                3339323731     10.86.34.13    14.233.37.124  VPN-34.13   \n",
              "2                3635303235     10.86.34.14     103.199.33.4  VPN-34.14   \n",
              "3                3635303234     10.86.34.14   113.185.86.130  VPN-34.14   \n",
              "4                3635303233     10.86.34.14   21.141.130.220  VPN-34.14   \n",
              "\n",
              "   eventrecordid                      fullyqualifiedsubjectusername  \\\n",
              "0      141312289  fsoft.fpt.vn/FPT/FIS/FIS HCM/FIS GS HCM/GS GOV...   \n",
              "1      141312239  fsoft.fpt.vn/FPT/FIS/FIS HCM/FIS GS HCM/GS GOV...   \n",
              "2      141312221  fsoft.fpt.vn/FPT/FIS/FPT IS HCM/FIS BNKHCM/BNK...   \n",
              "3      141312079           fsoft.fpt.vn/FPT/FIS/NEW_USERS/ThaoBTP11   \n",
              "4      141312068  fsoft.fpt.vn/FPT/FIS/FPT IS HCM/FIS HC HCM/HC ...   \n",
              "\n",
              "  nasidentifier  nasport subjectusername  \\\n",
              "0       HO-L2TP      264          huyhk8   \n",
              "1     HO-L2TP03      149          nhalt8   \n",
              "2       HO-L2TP      253       ThangNH29   \n",
              "3       HO-L2TP       28       thaobtp11   \n",
              "4       HO-L2TP      270       hungnv103   \n",
              "\n",
              "                                     subjectusersid threadid  \\\n",
              "0   S-1-5-21-1078879581-106171156-1039276024-927883  '10208'   \n",
              "1   S-1-5-21-1078879581-106171156-1039276024-929201  '10172'   \n",
              "2   S-1-5-21-1078879581-106171156-1039276024-963688    '904'   \n",
              "3  S-1-5-21-1078879581-106171156-1039276024-1212216   '8440'   \n",
              "4   S-1-5-21-1078879581-106171156-1039276024-963543  '10172'   \n",
              "\n",
              "                   timestamp  hour_of_day      time_category  department  \n",
              "0  2025-04-01 14:24:07+07:00           14  afternoon_(12-18)     FIS HCM  \n",
              "1  2025-04-01 14:23:27+07:00           14  afternoon_(12-18)     FIS HCM  \n",
              "2  2025-04-01 14:23:02+07:00           14  afternoon_(12-18)  FPT IS HCM  \n",
              "3  2025-04-01 14:21:02+07:00           14  afternoon_(12-18)   NEW_USERS  \n",
              "4  2025-04-01 14:20:53+07:00           14  afternoon_(12-18)  FPT IS HCM  "
            ]
          },
          "execution_count": 47,
          "metadata": {},
          "output_type": "execute_result"
        }
      ],
      "source": [
        "df.head()"
      ]
    },
    {
      "cell_type": "code",
      "execution_count": 48,
      "metadata": {
        "colab": {
          "base_uri": "https://localhost:8080/"
        },
        "id": "bqUhlLXvwYp0",
        "outputId": "0c786204-58d6-464c-bffd-75b11a781089"
      },
      "outputs": [
        {
          "name": "stdout",
          "output_type": "stream",
          "text": [
            "Number of records and variables after deleting:\n",
            "(1030, 15)\n"
          ]
        }
      ],
      "source": [
        "print(\"Number of records and variables after deleting:\")\n",
        "print(df.shape)"
      ]
    }
  ],
  "metadata": {
    "colab": {
      "provenance": [],
      "toc_visible": true
    },
    "kernelspec": {
      "display_name": "Python 3",
      "language": "python",
      "name": "python3"
    },
    "language_info": {
      "codemirror_mode": {
        "name": "ipython",
        "version": 3
      },
      "file_extension": ".py",
      "mimetype": "text/x-python",
      "name": "python",
      "nbconvert_exporter": "python",
      "pygments_lexer": "ipython3",
      "version": "3.13.3"
    }
  },
  "nbformat": 4,
  "nbformat_minor": 0
}
